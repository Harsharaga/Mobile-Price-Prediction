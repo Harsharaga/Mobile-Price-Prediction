{
 "cells": [
  {
   "cell_type": "code",
   "execution_count": 1,
   "id": "02ab267a",
   "metadata": {
    "_cell_guid": "b1076dfc-b9ad-4769-8c92-a6c4dae69d19",
    "_uuid": "8f2839f25d086af736a60e9eeb907d3b93b6e0e5",
    "execution": {
     "iopub.execute_input": "2022-05-17T06:10:13.954554Z",
     "iopub.status.busy": "2022-05-17T06:10:13.953737Z",
     "iopub.status.idle": "2022-05-17T06:10:14.978443Z",
     "shell.execute_reply": "2022-05-17T06:10:14.977826Z"
    },
    "papermill": {
     "duration": 1.056225,
     "end_time": "2022-05-17T06:10:14.980710",
     "exception": false,
     "start_time": "2022-05-17T06:10:13.924485",
     "status": "completed"
    },
    "tags": []
   },
   "outputs": [],
   "source": [
    "import numpy as np # linear algebra\n",
    "import pandas as pd # data processing, CSV file I/O (e.g. pd.read_csv)\n",
    "import seaborn as sns\n",
    "import matplotlib.pylab as plt\n",
    "%matplotlib inline"
   ]
  },
  {
   "cell_type": "code",
   "execution_count": 2,
   "id": "c44ab2d3",
   "metadata": {
    "execution": {
     "iopub.execute_input": "2022-05-17T06:10:15.031280Z",
     "iopub.status.busy": "2022-05-17T06:10:15.030430Z",
     "iopub.status.idle": "2022-05-17T06:10:15.082168Z",
     "shell.execute_reply": "2022-05-17T06:10:15.081651Z"
    },
    "papermill": {
     "duration": 0.079606,
     "end_time": "2022-05-17T06:10:15.084458",
     "exception": false,
     "start_time": "2022-05-17T06:10:15.004852",
     "status": "completed"
    },
    "tags": []
   },
   "outputs": [
    {
     "data": {
      "text/html": [
       "<div>\n",
       "<style scoped>\n",
       "    .dataframe tbody tr th:only-of-type {\n",
       "        vertical-align: middle;\n",
       "    }\n",
       "\n",
       "    .dataframe tbody tr th {\n",
       "        vertical-align: top;\n",
       "    }\n",
       "\n",
       "    .dataframe thead th {\n",
       "        text-align: right;\n",
       "    }\n",
       "</style>\n",
       "<table border=\"1\" class=\"dataframe\">\n",
       "  <thead>\n",
       "    <tr style=\"text-align: right;\">\n",
       "      <th></th>\n",
       "      <th>battery_power</th>\n",
       "      <th>blue</th>\n",
       "      <th>clock_speed</th>\n",
       "      <th>dual_sim</th>\n",
       "      <th>fc</th>\n",
       "      <th>four_g</th>\n",
       "      <th>int_memory</th>\n",
       "      <th>m_dep</th>\n",
       "      <th>mobile_wt</th>\n",
       "      <th>n_cores</th>\n",
       "      <th>...</th>\n",
       "      <th>px_height</th>\n",
       "      <th>px_width</th>\n",
       "      <th>ram</th>\n",
       "      <th>sc_h</th>\n",
       "      <th>sc_w</th>\n",
       "      <th>talk_time</th>\n",
       "      <th>three_g</th>\n",
       "      <th>touch_screen</th>\n",
       "      <th>wifi</th>\n",
       "      <th>price_range</th>\n",
       "    </tr>\n",
       "  </thead>\n",
       "  <tbody>\n",
       "    <tr>\n",
       "      <th>0</th>\n",
       "      <td>842</td>\n",
       "      <td>0</td>\n",
       "      <td>2.2</td>\n",
       "      <td>0</td>\n",
       "      <td>1</td>\n",
       "      <td>0</td>\n",
       "      <td>7</td>\n",
       "      <td>0.6</td>\n",
       "      <td>188</td>\n",
       "      <td>2</td>\n",
       "      <td>...</td>\n",
       "      <td>20</td>\n",
       "      <td>756</td>\n",
       "      <td>2549</td>\n",
       "      <td>9</td>\n",
       "      <td>7</td>\n",
       "      <td>19</td>\n",
       "      <td>0</td>\n",
       "      <td>0</td>\n",
       "      <td>1</td>\n",
       "      <td>1</td>\n",
       "    </tr>\n",
       "    <tr>\n",
       "      <th>1</th>\n",
       "      <td>1021</td>\n",
       "      <td>1</td>\n",
       "      <td>0.5</td>\n",
       "      <td>1</td>\n",
       "      <td>0</td>\n",
       "      <td>1</td>\n",
       "      <td>53</td>\n",
       "      <td>0.7</td>\n",
       "      <td>136</td>\n",
       "      <td>3</td>\n",
       "      <td>...</td>\n",
       "      <td>905</td>\n",
       "      <td>1988</td>\n",
       "      <td>2631</td>\n",
       "      <td>17</td>\n",
       "      <td>3</td>\n",
       "      <td>7</td>\n",
       "      <td>1</td>\n",
       "      <td>1</td>\n",
       "      <td>0</td>\n",
       "      <td>2</td>\n",
       "    </tr>\n",
       "    <tr>\n",
       "      <th>2</th>\n",
       "      <td>563</td>\n",
       "      <td>1</td>\n",
       "      <td>0.5</td>\n",
       "      <td>1</td>\n",
       "      <td>2</td>\n",
       "      <td>1</td>\n",
       "      <td>41</td>\n",
       "      <td>0.9</td>\n",
       "      <td>145</td>\n",
       "      <td>5</td>\n",
       "      <td>...</td>\n",
       "      <td>1263</td>\n",
       "      <td>1716</td>\n",
       "      <td>2603</td>\n",
       "      <td>11</td>\n",
       "      <td>2</td>\n",
       "      <td>9</td>\n",
       "      <td>1</td>\n",
       "      <td>1</td>\n",
       "      <td>0</td>\n",
       "      <td>2</td>\n",
       "    </tr>\n",
       "    <tr>\n",
       "      <th>3</th>\n",
       "      <td>615</td>\n",
       "      <td>1</td>\n",
       "      <td>2.5</td>\n",
       "      <td>0</td>\n",
       "      <td>0</td>\n",
       "      <td>0</td>\n",
       "      <td>10</td>\n",
       "      <td>0.8</td>\n",
       "      <td>131</td>\n",
       "      <td>6</td>\n",
       "      <td>...</td>\n",
       "      <td>1216</td>\n",
       "      <td>1786</td>\n",
       "      <td>2769</td>\n",
       "      <td>16</td>\n",
       "      <td>8</td>\n",
       "      <td>11</td>\n",
       "      <td>1</td>\n",
       "      <td>0</td>\n",
       "      <td>0</td>\n",
       "      <td>2</td>\n",
       "    </tr>\n",
       "    <tr>\n",
       "      <th>4</th>\n",
       "      <td>1821</td>\n",
       "      <td>1</td>\n",
       "      <td>1.2</td>\n",
       "      <td>0</td>\n",
       "      <td>13</td>\n",
       "      <td>1</td>\n",
       "      <td>44</td>\n",
       "      <td>0.6</td>\n",
       "      <td>141</td>\n",
       "      <td>2</td>\n",
       "      <td>...</td>\n",
       "      <td>1208</td>\n",
       "      <td>1212</td>\n",
       "      <td>1411</td>\n",
       "      <td>8</td>\n",
       "      <td>2</td>\n",
       "      <td>15</td>\n",
       "      <td>1</td>\n",
       "      <td>1</td>\n",
       "      <td>0</td>\n",
       "      <td>1</td>\n",
       "    </tr>\n",
       "  </tbody>\n",
       "</table>\n",
       "<p>5 rows × 21 columns</p>\n",
       "</div>"
      ],
      "text/plain": [
       "   battery_power  blue  clock_speed  dual_sim  fc  four_g  int_memory  m_dep  \\\n",
       "0            842     0          2.2         0   1       0           7    0.6   \n",
       "1           1021     1          0.5         1   0       1          53    0.7   \n",
       "2            563     1          0.5         1   2       1          41    0.9   \n",
       "3            615     1          2.5         0   0       0          10    0.8   \n",
       "4           1821     1          1.2         0  13       1          44    0.6   \n",
       "\n",
       "   mobile_wt  n_cores  ...  px_height  px_width   ram  sc_h  sc_w  talk_time  \\\n",
       "0        188        2  ...         20       756  2549     9     7         19   \n",
       "1        136        3  ...        905      1988  2631    17     3          7   \n",
       "2        145        5  ...       1263      1716  2603    11     2          9   \n",
       "3        131        6  ...       1216      1786  2769    16     8         11   \n",
       "4        141        2  ...       1208      1212  1411     8     2         15   \n",
       "\n",
       "   three_g  touch_screen  wifi  price_range  \n",
       "0        0             0     1            1  \n",
       "1        1             1     0            2  \n",
       "2        1             1     0            2  \n",
       "3        1             0     0            2  \n",
       "4        1             1     0            1  \n",
       "\n",
       "[5 rows x 21 columns]"
      ]
     },
     "execution_count": 2,
     "metadata": {},
     "output_type": "execute_result"
    }
   ],
   "source": [
    "train_data=pd.read_csv('../input/mobile-price-prediction/mobile_price_range_data (2).csv')\n",
    "train_data.head()"
   ]
  },
  {
   "cell_type": "code",
   "execution_count": 3,
   "id": "a6a112e2",
   "metadata": {
    "execution": {
     "iopub.execute_input": "2022-05-17T06:10:15.136692Z",
     "iopub.status.busy": "2022-05-17T06:10:15.136323Z",
     "iopub.status.idle": "2022-05-17T06:10:15.157138Z",
     "shell.execute_reply": "2022-05-17T06:10:15.156617Z"
    },
    "papermill": {
     "duration": 0.049768,
     "end_time": "2022-05-17T06:10:15.159583",
     "exception": false,
     "start_time": "2022-05-17T06:10:15.109815",
     "status": "completed"
    },
    "tags": []
   },
   "outputs": [
    {
     "name": "stdout",
     "output_type": "stream",
     "text": [
      "<class 'pandas.core.frame.DataFrame'>\n",
      "RangeIndex: 2000 entries, 0 to 1999\n",
      "Data columns (total 21 columns):\n",
      " #   Column         Non-Null Count  Dtype  \n",
      "---  ------         --------------  -----  \n",
      " 0   battery_power  2000 non-null   int64  \n",
      " 1   blue           2000 non-null   int64  \n",
      " 2   clock_speed    2000 non-null   float64\n",
      " 3   dual_sim       2000 non-null   int64  \n",
      " 4   fc             2000 non-null   int64  \n",
      " 5   four_g         2000 non-null   int64  \n",
      " 6   int_memory     2000 non-null   int64  \n",
      " 7   m_dep          2000 non-null   float64\n",
      " 8   mobile_wt      2000 non-null   int64  \n",
      " 9   n_cores        2000 non-null   int64  \n",
      " 10  pc             2000 non-null   int64  \n",
      " 11  px_height      2000 non-null   int64  \n",
      " 12  px_width       2000 non-null   int64  \n",
      " 13  ram            2000 non-null   int64  \n",
      " 14  sc_h           2000 non-null   int64  \n",
      " 15  sc_w           2000 non-null   int64  \n",
      " 16  talk_time      2000 non-null   int64  \n",
      " 17  three_g        2000 non-null   int64  \n",
      " 18  touch_screen   2000 non-null   int64  \n",
      " 19  wifi           2000 non-null   int64  \n",
      " 20  price_range    2000 non-null   int64  \n",
      "dtypes: float64(2), int64(19)\n",
      "memory usage: 328.2 KB\n"
     ]
    }
   ],
   "source": [
    "train_data.info()"
   ]
  },
  {
   "cell_type": "code",
   "execution_count": 4,
   "id": "341092d8",
   "metadata": {
    "execution": {
     "iopub.execute_input": "2022-05-17T06:10:15.213449Z",
     "iopub.status.busy": "2022-05-17T06:10:15.212975Z",
     "iopub.status.idle": "2022-05-17T06:10:15.219166Z",
     "shell.execute_reply": "2022-05-17T06:10:15.218615Z"
    },
    "papermill": {
     "duration": 0.034537,
     "end_time": "2022-05-17T06:10:15.220936",
     "exception": false,
     "start_time": "2022-05-17T06:10:15.186399",
     "status": "completed"
    },
    "tags": []
   },
   "outputs": [
    {
     "data": {
      "text/plain": [
       "(1820, 21)"
      ]
     },
     "execution_count": 4,
     "metadata": {},
     "output_type": "execute_result"
    }
   ],
   "source": [
    "train_data_f = train_data[train_data['sc_w'] != 0]\n",
    "train_data_f.shape"
   ]
  },
  {
   "cell_type": "code",
   "execution_count": 5,
   "id": "c93c7d78",
   "metadata": {
    "execution": {
     "iopub.execute_input": "2022-05-17T06:10:15.274571Z",
     "iopub.status.busy": "2022-05-17T06:10:15.274125Z",
     "iopub.status.idle": "2022-05-17T06:10:15.502692Z",
     "shell.execute_reply": "2022-05-17T06:10:15.501839Z"
    },
    "papermill": {
     "duration": 0.25852,
     "end_time": "2022-05-17T06:10:15.506382",
     "exception": false,
     "start_time": "2022-05-17T06:10:15.247862",
     "status": "completed"
    },
    "tags": []
   },
   "outputs": [
    {
     "data": {
      "image/png": "[encoded data removed]",
      "text/plain": [
       "<Figure size 432x288 with 1 Axes>"
      ]
     },
     "metadata": {},
     "output_type": "display_data"
    }
   ],
   "source": [
    "sns.set()\n",
    "price_plot=train_data_f['price_range'].value_counts().plot(kind='bar')\n",
    "plt.xlabel('price_range')\n",
    "plt.ylabel('Count')\n",
    "plt.show()"
   ]
  },
  {
   "cell_type": "code",
   "execution_count": 6,
   "id": "ceae2752",
   "metadata": {
    "execution": {
     "iopub.execute_input": "2022-05-17T06:10:15.566803Z",
     "iopub.status.busy": "2022-05-17T06:10:15.566346Z",
     "iopub.status.idle": "2022-05-17T06:10:15.956382Z",
     "shell.execute_reply": "2022-05-17T06:10:15.955511Z"
    },
    "papermill": {
     "duration": 0.420396,
     "end_time": "2022-05-17T06:10:15.958434",
     "exception": false,
     "start_time": "2022-05-17T06:10:15.538038",
     "status": "completed"
    },
    "tags": []
   },
   "outputs": [
    {
     "data": {
      "image/png": "[encoded data removed]",
      "text/plain": [
       "<Figure size 360x360 with 1 Axes>"
      ]
     },
     "metadata": {},
     "output_type": "display_data"
    }
   ],
   "source": [
    "sns.set(rc={'figure.figsize':(5,5)})\n",
    "ax=sns.displot(data=train_data_f[\"battery_power\"])\n",
    "plt.show()"
   ]
  },
  {
   "cell_type": "code",
   "execution_count": 7,
   "id": "56d3eccc",
   "metadata": {
    "execution": {
     "iopub.execute_input": "2022-05-17T06:10:16.014804Z",
     "iopub.status.busy": "2022-05-17T06:10:16.014032Z",
     "iopub.status.idle": "2022-05-17T06:10:16.385528Z",
     "shell.execute_reply": "2022-05-17T06:10:16.384785Z"
    },
    "papermill": {
     "duration": 0.401885,
     "end_time": "2022-05-17T06:10:16.387582",
     "exception": false,
     "start_time": "2022-05-17T06:10:15.985697",
     "status": "completed"
    },
    "tags": []
   },
   "outputs": [
    {
     "data": {
      "image/png": "[encoded data removed]",
      "text/plain": [
       "<Figure size 360x360 with 1 Axes>"
      ]
     },
     "metadata": {},
     "output_type": "display_data"
    }
   ],
   "source": [
    "sns.set(rc={'figure.figsize':(5,5)})\n",
    "ax=sns.displot(data=train_data_f[\"blue\"])\n",
    "plt.show()"
   ]
  },
  {
   "cell_type": "code",
   "execution_count": 8,
   "id": "3bb472ba",
   "metadata": {
    "execution": {
     "iopub.execute_input": "2022-05-17T06:10:16.447009Z",
     "iopub.status.busy": "2022-05-17T06:10:16.446748Z",
     "iopub.status.idle": "2022-05-17T06:10:16.817872Z",
     "shell.execute_reply": "2022-05-17T06:10:16.817065Z"
    },
    "papermill": {
     "duration": 0.404713,
     "end_time": "2022-05-17T06:10:16.820069",
     "exception": false,
     "start_time": "2022-05-17T06:10:16.415356",
     "status": "completed"
    },
    "tags": []
   },
   "outputs": [
    {
     "data": {
      "image/png": "[encoded data removed]",
      "text/plain": [
       "<Figure size 360x360 with 1 Axes>"
      ]
     },
     "metadata": {},
     "output_type": "display_data"
    }
   ],
   "source": [
    "sns.set(rc={'figure.figsize':(5,5)})\n",
    "ax=sns.displot(data=train_data_f[\"m_dep\"])\n",
    "plt.show()"
   ]
  },
  {
   "cell_type": "code",
   "execution_count": 9,
   "id": "1df935e5",
   "metadata": {
    "execution": {
     "iopub.execute_input": "2022-05-17T06:10:16.880137Z",
     "iopub.status.busy": "2022-05-17T06:10:16.879634Z",
     "iopub.status.idle": "2022-05-17T06:10:16.889539Z",
     "shell.execute_reply": "2022-05-17T06:10:16.888761Z"
    },
    "papermill": {
     "duration": 0.042006,
     "end_time": "2022-05-17T06:10:16.891470",
     "exception": false,
     "start_time": "2022-05-17T06:10:16.849464",
     "status": "completed"
    },
    "tags": []
   },
   "outputs": [
    {
     "data": {
      "text/plain": [
       "battery_power    False\n",
       "blue             False\n",
       "clock_speed      False\n",
       "dual_sim         False\n",
       "fc               False\n",
       "four_g           False\n",
       "int_memory       False\n",
       "m_dep            False\n",
       "mobile_wt        False\n",
       "n_cores          False\n",
       "pc               False\n",
       "px_height        False\n",
       "px_width         False\n",
       "ram              False\n",
       "sc_h             False\n",
       "sc_w             False\n",
       "talk_time        False\n",
       "three_g          False\n",
       "touch_screen     False\n",
       "wifi             False\n",
       "dtype: bool"
      ]
     },
     "execution_count": 9,
     "metadata": {},
     "output_type": "execute_result"
    }
   ],
   "source": [
    "X=train_data_f.drop(['price_range'], axis=1)\n",
    "y=train_data_f['price_range']\n",
    "X.isna().any()"
   ]
  },
  {
   "cell_type": "code",
   "execution_count": 10,
   "id": "d84d9f36",
   "metadata": {
    "execution": {
     "iopub.execute_input": "2022-05-17T06:10:16.952312Z",
     "iopub.status.busy": "2022-05-17T06:10:16.951795Z",
     "iopub.status.idle": "2022-05-17T06:10:17.126250Z",
     "shell.execute_reply": "2022-05-17T06:10:17.125633Z"
    },
    "papermill": {
     "duration": 0.207775,
     "end_time": "2022-05-17T06:10:17.128547",
     "exception": false,
     "start_time": "2022-05-17T06:10:16.920772",
     "status": "completed"
    },
    "tags": []
   },
   "outputs": [],
   "source": [
    "from sklearn.model_selection import train_test_split\n",
    "X_train, X_valid, y_train, y_valid= train_test_split(X, y, test_size=0.2, random_state=7)"
   ]
  },
  {
   "cell_type": "code",
   "execution_count": 11,
   "id": "f0953ede",
   "metadata": {
    "execution": {
     "iopub.execute_input": "2022-05-17T06:10:17.192526Z",
     "iopub.status.busy": "2022-05-17T06:10:17.191971Z",
     "iopub.status.idle": "2022-05-17T06:10:17.199044Z",
     "shell.execute_reply": "2022-05-17T06:10:17.197949Z"
    },
    "papermill": {
     "duration": 0.041089,
     "end_time": "2022-05-17T06:10:17.202065",
     "exception": false,
     "start_time": "2022-05-17T06:10:17.160976",
     "status": "completed"
    },
    "tags": []
   },
   "outputs": [],
   "source": [
    "from sklearn.metrics import classification_report, confusion_matrix, accuracy_score\n",
    "def my_confusion_matrix(y_test, y_pred, plt_title):\n",
    "    cm=confusion_matrix(y_test, y_pred)\n",
    "    print(classification_report(y_test, y_pred))\n",
    "    sns.heatmap(cm, annot=True, fmt='g', cbar=False, cmap='BuPu')\n",
    "    plt.xlabel('Predicted Values')\n",
    "    plt.ylabel('Actual Values')\n",
    "    plt.title(plt_title)\n",
    "    plt.show()\n",
    "    return cm"
   ]
  },
  {
   "cell_type": "code",
   "execution_count": 12,
   "id": "095ac302",
   "metadata": {
    "execution": {
     "iopub.execute_input": "2022-05-17T06:10:17.271453Z",
     "iopub.status.busy": "2022-05-17T06:10:17.270707Z",
     "iopub.status.idle": "2022-05-17T06:10:17.485686Z",
     "shell.execute_reply": "2022-05-17T06:10:17.484681Z"
    },
    "papermill": {
     "duration": 0.251886,
     "end_time": "2022-05-17T06:10:17.488367",
     "exception": false,
     "start_time": "2022-05-17T06:10:17.236481",
     "status": "completed"
    },
    "tags": []
   },
   "outputs": [],
   "source": [
    "from sklearn.ensemble import RandomForestClassifier\n",
    "rfc=RandomForestClassifier(bootstrap= True,\n",
    "                           max_depth= 7,\n",
    "                           max_features= 15,\n",
    "                           min_samples_leaf= 3,\n",
    "                           min_samples_split= 10,\n",
    "                           n_estimators= 200,\n",
    "                           random_state=7)"
   ]
  },
  {
   "cell_type": "code",
   "execution_count": 13,
   "id": "35361a63",
   "metadata": {
    "execution": {
     "iopub.execute_input": "2022-05-17T06:10:17.559294Z",
     "iopub.status.busy": "2022-05-17T06:10:17.558391Z",
     "iopub.status.idle": "2022-05-17T06:10:18.793211Z",
     "shell.execute_reply": "2022-05-17T06:10:18.792522Z"
    },
    "papermill": {
     "duration": 1.271275,
     "end_time": "2022-05-17T06:10:18.795410",
     "exception": false,
     "start_time": "2022-05-17T06:10:17.524135",
     "status": "completed"
    },
    "tags": []
   },
   "outputs": [],
   "source": [
    "rfc.fit(X_train, y_train)\n",
    "y_pred_rfc=rfc.predict(X_valid)"
   ]
  },
  {
   "cell_type": "code",
   "execution_count": 14,
   "id": "415ae08d",
   "metadata": {
    "execution": {
     "iopub.execute_input": "2022-05-17T06:10:18.857362Z",
     "iopub.status.busy": "2022-05-17T06:10:18.856944Z",
     "iopub.status.idle": "2022-05-17T06:10:19.067759Z",
     "shell.execute_reply": "2022-05-17T06:10:19.066651Z"
    },
    "papermill": {
     "duration": 0.245236,
     "end_time": "2022-05-17T06:10:19.070025",
     "exception": false,
     "start_time": "2022-05-17T06:10:18.824789",
     "status": "completed"
    },
    "tags": []
   },
   "outputs": [
    {
     "name": "stdout",
     "output_type": "stream",
     "text": [
      "Random Forest Classifier Accuracy Score:  0.9093406593406593\n",
      "              precision    recall  f1-score   support\n",
      "\n",
      "           0       0.98      0.97      0.97        95\n",
      "           1       0.90      0.92      0.91        92\n",
      "           2       0.82      0.86      0.84        86\n",
      "           3       0.93      0.88      0.90        91\n",
      "\n",
      "    accuracy                           0.91       364\n",
      "   macro avg       0.91      0.91      0.91       364\n",
      "weighted avg       0.91      0.91      0.91       364\n",
      "\n"
     ]
    },
    {
     "data": {
      "image/png": "[encoded data removed]",
      "text/plain": [
       "<Figure size 360x360 with 1 Axes>"
      ]
     },
     "metadata": {},
     "output_type": "display_data"
    }
   ],
   "source": [
    "print('Random Forest Classifier Accuracy Score: ',accuracy_score(y_valid,y_pred_rfc))\n",
    "cm_rfc=my_confusion_matrix(y_valid, y_pred_rfc, 'Random Forest Confusion Matrix')"
   ]
  },
  {
   "cell_type": "code",
   "execution_count": 15,
   "id": "8253682f",
   "metadata": {
    "execution": {
     "iopub.execute_input": "2022-05-17T06:10:19.134802Z",
     "iopub.status.busy": "2022-05-17T06:10:19.134242Z",
     "iopub.status.idle": "2022-05-17T06:10:19.140996Z",
     "shell.execute_reply": "2022-05-17T06:10:19.140403Z"
    },
    "papermill": {
     "duration": 0.042025,
     "end_time": "2022-05-17T06:10:19.143140",
     "exception": false,
     "start_time": "2022-05-17T06:10:19.101115",
     "status": "completed"
    },
    "tags": []
   },
   "outputs": [],
   "source": [
    "from sklearn.naive_bayes import GaussianNB\n",
    "gnb = GaussianNB()"
   ]
  },
  {
   "cell_type": "code",
   "execution_count": 16,
   "id": "ab4c1692",
   "metadata": {
    "execution": {
     "iopub.execute_input": "2022-05-17T06:10:19.206838Z",
     "iopub.status.busy": "2022-05-17T06:10:19.206268Z",
     "iopub.status.idle": "2022-05-17T06:10:19.215496Z",
     "shell.execute_reply": "2022-05-17T06:10:19.214949Z"
    },
    "papermill": {
     "duration": 0.043685,
     "end_time": "2022-05-17T06:10:19.217407",
     "exception": false,
     "start_time": "2022-05-17T06:10:19.173722",
     "status": "completed"
    },
    "tags": []
   },
   "outputs": [],
   "source": [
    "gnb.fit(X_train, y_train)\n",
    "y_pred_gnb=gnb.predict(X_valid)"
   ]
  },
  {
   "cell_type": "code",
   "execution_count": 17,
   "id": "cbd1b07f",
   "metadata": {
    "execution": {
     "iopub.execute_input": "2022-05-17T06:10:19.280177Z",
     "iopub.status.busy": "2022-05-17T06:10:19.279639Z",
     "iopub.status.idle": "2022-05-17T06:10:19.487873Z",
     "shell.execute_reply": "2022-05-17T06:10:19.486955Z"
    },
    "papermill": {
     "duration": 0.241859,
     "end_time": "2022-05-17T06:10:19.489913",
     "exception": false,
     "start_time": "2022-05-17T06:10:19.248054",
     "status": "completed"
    },
    "tags": []
   },
   "outputs": [
    {
     "name": "stdout",
     "output_type": "stream",
     "text": [
      "Gaussian NB Classifier Accuracy Score:  0.8461538461538461\n",
      "              precision    recall  f1-score   support\n",
      "\n",
      "           0       0.93      0.92      0.92        95\n",
      "           1       0.79      0.73      0.76        92\n",
      "           2       0.74      0.80      0.77        86\n",
      "           3       0.92      0.93      0.93        91\n",
      "\n",
      "    accuracy                           0.85       364\n",
      "   macro avg       0.84      0.85      0.84       364\n",
      "weighted avg       0.85      0.85      0.85       364\n",
      "\n"
     ]
    },
    {
     "data": {
      "image/png": "[encoded data removed]",
      "text/plain": [
       "<Figure size 360x360 with 1 Axes>"
      ]
     },
     "metadata": {},
     "output_type": "display_data"
    }
   ],
   "source": [
    "print('Gaussian NB Classifier Accuracy Score: ',accuracy_score(y_valid,y_pred_gnb))\n",
    "cm_rfc=my_confusion_matrix(y_valid, y_pred_gnb, 'Gaussian NB Confusion Matrix')"
   ]
  },
  {
   "cell_type": "code",
   "execution_count": 18,
   "id": "1c7ca998",
   "metadata": {
    "execution": {
     "iopub.execute_input": "2022-05-17T06:10:19.556705Z",
     "iopub.status.busy": "2022-05-17T06:10:19.556188Z",
     "iopub.status.idle": "2022-05-17T06:10:19.559817Z",
     "shell.execute_reply": "2022-05-17T06:10:19.559251Z"
    },
    "papermill": {
     "duration": 0.039863,
     "end_time": "2022-05-17T06:10:19.561447",
     "exception": false,
     "start_time": "2022-05-17T06:10:19.521584",
     "status": "completed"
    },
    "tags": []
   },
   "outputs": [],
   "source": [
    "from sklearn.neighbors import KNeighborsClassifier\n",
    "knn = KNeighborsClassifier(n_neighbors=3,leaf_size=25)"
   ]
  },
  {
   "cell_type": "code",
   "execution_count": 19,
   "id": "d1d4af4f",
   "metadata": {
    "execution": {
     "iopub.execute_input": "2022-05-17T06:10:19.624415Z",
     "iopub.status.busy": "2022-05-17T06:10:19.623908Z",
     "iopub.status.idle": "2022-05-17T06:10:19.671553Z",
     "shell.execute_reply": "2022-05-17T06:10:19.670449Z"
    },
    "papermill": {
     "duration": 0.082405,
     "end_time": "2022-05-17T06:10:19.674899",
     "exception": false,
     "start_time": "2022-05-17T06:10:19.592494",
     "status": "completed"
    },
    "tags": []
   },
   "outputs": [],
   "source": [
    "knn.fit(X_train, y_train)\n",
    "y_pred_knn=knn.predict(X_valid)"
   ]
  },
  {
   "cell_type": "code",
   "execution_count": 20,
   "id": "50f4f067",
   "metadata": {
    "execution": {
     "iopub.execute_input": "2022-05-17T06:10:19.776326Z",
     "iopub.status.busy": "2022-05-17T06:10:19.776046Z",
     "iopub.status.idle": "2022-05-17T06:10:19.981129Z",
     "shell.execute_reply": "2022-05-17T06:10:19.980293Z"
    },
    "papermill": {
     "duration": 0.251484,
     "end_time": "2022-05-17T06:10:19.983142",
     "exception": false,
     "start_time": "2022-05-17T06:10:19.731658",
     "status": "completed"
    },
    "tags": []
   },
   "outputs": [
    {
     "name": "stdout",
     "output_type": "stream",
     "text": [
      "KNN Classifier Accuracy Score:  0.9340659340659341\n",
      "              precision    recall  f1-score   support\n",
      "\n",
      "           0       0.99      0.98      0.98        95\n",
      "           1       0.93      0.97      0.95        92\n",
      "           2       0.87      0.88      0.88        86\n",
      "           3       0.94      0.90      0.92        91\n",
      "\n",
      "    accuracy                           0.93       364\n",
      "   macro avg       0.93      0.93      0.93       364\n",
      "weighted avg       0.93      0.93      0.93       364\n",
      "\n"
     ]
    },
    {
     "data": {
      "image/png": "[encoded data removed]",
      "text/plain": [
       "<Figure size 360x360 with 1 Axes>"
      ]
     },
     "metadata": {},
     "output_type": "display_data"
    }
   ],
   "source": [
    "print('KNN Classifier Accuracy Score: ',accuracy_score(y_valid,y_pred_knn))\n",
    "cm_rfc=my_confusion_matrix(y_valid, y_pred_knn, 'KNN Confusion Matrix')"
   ]
  },
  {
   "cell_type": "code",
   "execution_count": 21,
   "id": "ae809a4a",
   "metadata": {
    "execution": {
     "iopub.execute_input": "2022-05-17T06:10:20.049850Z",
     "iopub.status.busy": "2022-05-17T06:10:20.049357Z",
     "iopub.status.idle": "2022-05-17T06:10:20.053073Z",
     "shell.execute_reply": "2022-05-17T06:10:20.052490Z"
    },
    "papermill": {
     "duration": 0.040293,
     "end_time": "2022-05-17T06:10:20.054856",
     "exception": false,
     "start_time": "2022-05-17T06:10:20.014563",
     "status": "completed"
    },
    "tags": []
   },
   "outputs": [],
   "source": [
    "from sklearn import svm\n",
    "svm_clf = svm.SVC(decision_function_shape='ovo')"
   ]
  },
  {
   "cell_type": "code",
   "execution_count": 22,
   "id": "6c593df8",
   "metadata": {
    "execution": {
     "iopub.execute_input": "2022-05-17T06:10:20.120411Z",
     "iopub.status.busy": "2022-05-17T06:10:20.119849Z",
     "iopub.status.idle": "2022-05-17T06:10:20.177523Z",
     "shell.execute_reply": "2022-05-17T06:10:20.176947Z"
    },
    "papermill": {
     "duration": 0.092544,
     "end_time": "2022-05-17T06:10:20.179773",
     "exception": false,
     "start_time": "2022-05-17T06:10:20.087229",
     "status": "completed"
    },
    "tags": []
   },
   "outputs": [],
   "source": [
    "svm_clf.fit(X_train, y_train)\n",
    "y_pred_svm=svm_clf.predict(X_valid)"
   ]
  },
  {
   "cell_type": "code",
   "execution_count": 23,
   "id": "e220f153",
   "metadata": {
    "execution": {
     "iopub.execute_input": "2022-05-17T06:10:20.249461Z",
     "iopub.status.busy": "2022-05-17T06:10:20.249027Z",
     "iopub.status.idle": "2022-05-17T06:10:20.593191Z",
     "shell.execute_reply": "2022-05-17T06:10:20.591639Z"
    },
    "papermill": {
     "duration": 0.381958,
     "end_time": "2022-05-17T06:10:20.595142",
     "exception": false,
     "start_time": "2022-05-17T06:10:20.213184",
     "status": "completed"
    },
    "tags": []
   },
   "outputs": [
    {
     "name": "stdout",
     "output_type": "stream",
     "text": [
      "SVM Classifier Accuracy Score:  0.9587912087912088\n",
      "              precision    recall  f1-score   support\n",
      "\n",
      "           0       0.98      0.98      0.98        95\n",
      "           1       0.93      0.97      0.95        92\n",
      "           2       0.94      0.93      0.94        86\n",
      "           3       0.99      0.96      0.97        91\n",
      "\n",
      "    accuracy                           0.96       364\n",
      "   macro avg       0.96      0.96      0.96       364\n",
      "weighted avg       0.96      0.96      0.96       364\n",
      "\n"
     ]
    },
    {
     "data": {
      "image/png": "[encoded data removed]",
      "text/plain": [
       "<Figure size 360x360 with 1 Axes>"
      ]
     },
     "metadata": {},
     "output_type": "display_data"
    }
   ],
   "source": [
    "print('SVM Classifier Accuracy Score: ',accuracy_score(y_valid,y_pred_svm))\n",
    "cm_rfc=my_confusion_matrix(y_valid, y_pred_svm, 'SVM Confusion Matrix')"
   ]
  },
  {
   "cell_type": "code",
   "execution_count": null,
   "id": "5bf3b3c1",
   "metadata": {
    "papermill": {
     "duration": 0.03434,
     "end_time": "2022-05-17T06:10:20.663020",
     "exception": false,
     "start_time": "2022-05-17T06:10:20.628680",
     "status": "completed"
    },
    "tags": []
   },
   "outputs": [],
   "source": []
  }
 ],
 "metadata": {
  "kernelspec": {
   "display_name": "Python 3",
   "language": "python",
   "name": "python3"
  },
  "language_info": {
   "codemirror_mode": {
    "name": "ipython",
    "version": 3
   },
   "file_extension": ".py",
   "mimetype": "text/x-python",
   "name": "python",
   "nbconvert_exporter": "python",
   "pygments_lexer": "ipython3",
   "version": "3.7.12"
  },
  "papermill": {
   "default_parameters": {},
   "duration": 16.701707,
   "end_time": "2022-05-17T06:10:21.416128",
   "environment_variables": {},
   "exception": null,
   "input_path": "__notebook__.ipynb",
   "output_path": "__notebook__.ipynb",
   "parameters": {},
   "start_time": "2022-05-17T06:10:04.714421",
   "version": "2.3.4"
  }
 },
 "nbformat": 4,
 "nbformat_minor": 5
}
